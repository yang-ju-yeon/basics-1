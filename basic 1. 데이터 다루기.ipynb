{
 "cells": [
  {
   "cell_type": "markdown",
   "id": "c485df5f",
   "metadata": {},
   "source": [
    "## basic - 1. 데이터 다루기"
   ]
  },
  {
   "cell_type": "markdown",
   "id": "7270a9fd",
   "metadata": {},
   "source": [
    "#### 1. 함수 만들기"
   ]
  },
  {
   "cell_type": "code",
   "execution_count": 2,
   "id": "1ec2c13c",
   "metadata": {},
   "outputs": [
    {
     "data": {
      "text/plain": [
       "'\\ndef 함수이름(input):\\n    처리코드\\nouput'"
      ]
     },
     "execution_count": 2,
     "metadata": {},
     "output_type": "execute_result"
    }
   ],
   "source": [
    "# 기본 구성\n",
    "'''\n",
    "def 함수이름(input):\n",
    "    처리코드\n",
    "ouput'''"
   ]
  },
  {
   "cell_type": "code",
   "execution_count": 7,
   "id": "4cf4d952",
   "metadata": {},
   "outputs": [
    {
     "name": "stdout",
     "output_type": "stream",
     "text": [
      "helloyang!\n",
      "helloyangㅎ\n"
     ]
    }
   ],
   "source": [
    "# 예시 1\n",
    "def hello(name,loud = 1):\n",
    "    if loud == 1 :\n",
    "        print('hello'+name+'!')\n",
    "    else :\n",
    "        print('hello'+name+'ㅎ')\n",
    "\n",
    "# 실행\n",
    "hello(name='yang',loud=1)\n",
    "hello(name='yang',loud=2)"
   ]
  },
  {
   "cell_type": "code",
   "execution_count": 9,
   "id": "fa1d489a",
   "metadata": {},
   "outputs": [
    {
     "name": "stdout",
     "output_type": "stream",
     "text": [
      "(1, 2, 3)\n",
      "(5, 68, 2, 7)\n"
     ]
    }
   ],
   "source": [
    "# 예시 2 - * : 입력 값의 수를 정하지 않고, 들어오는대로 받는다.\n",
    "\n",
    "def number(*num):\n",
    "    print(num)\n",
    "\n",
    "number(1,2,3)\n",
    "number(5,68,2,7)"
   ]
  },
  {
   "cell_type": "code",
   "execution_count": 32,
   "id": "50073ab4",
   "metadata": {},
   "outputs": [
    {
     "data": {
      "text/plain": [
       "15"
      ]
     },
     "execution_count": 32,
     "metadata": {},
     "output_type": "execute_result"
    }
   ],
   "source": [
    "# 예시 2-2. 여러 숫자를 입력받아 모두 합한값을 반환\n",
    "\n",
    "def summ(*nums):\n",
    "    total=0\n",
    "    for num in nums :\n",
    "        total+=num\n",
    "    return(total)\n",
    "\n",
    "summ(1,2,3,4,5)"
   ]
  },
  {
   "cell_type": "code",
   "execution_count": 39,
   "id": "25007d25",
   "metadata": {},
   "outputs": [
    {
     "name": "stdout",
     "output_type": "stream",
     "text": [
      "(1, 13, 465)\n",
      "(1, 2, 5)\n"
     ]
    }
   ],
   "source": [
    "# ouput 1 - return : 결과 값을 받아서 사용하기 위해 반드시 필요.\n",
    "\n",
    "def summ1(*nums):\n",
    "    return nums\n",
    "\n",
    "#\n",
    "print(summ1(1,13,465))\n",
    "a1 = summ1(1,2,5)\n",
    "print(a1)"
   ]
  },
  {
   "cell_type": "code",
   "execution_count": 40,
   "id": "f8faeab7",
   "metadata": {},
   "outputs": [
    {
     "name": "stdout",
     "output_type": "stream",
     "text": [
      "15\n",
      "50\n"
     ]
    }
   ],
   "source": [
    "# ouput 2 - return을 이용하여 여러 개의 결과를 사용할 수도 있음.\n",
    "\n",
    "def calculate(a,b):\n",
    "    summ = a + b\n",
    "    mult = a * b\n",
    "    return summ, mult\n",
    "\n",
    "r1,r2=calculate(5,10)\n",
    "print(r1)\n",
    "print(r2)"
   ]
  },
  {
   "cell_type": "code",
   "execution_count": 44,
   "id": "549e36e4",
   "metadata": {},
   "outputs": [
    {
     "name": "stdout",
     "output_type": "stream",
     "text": [
      "나누는 값은 0이 될 수 없음\n"
     ]
    }
   ],
   "source": [
    "# 예외 처리\n",
    "def divide(a,b) :\n",
    "    if b == 0 :\n",
    "        print('나누는 값은 0이 될 수 없음')\n",
    "    else :\n",
    "        result = a/b\n",
    "        return result\n",
    "\n",
    "divide(10,0)"
   ]
  },
  {
   "cell_type": "markdown",
   "id": "f3794aae",
   "metadata": {},
   "source": [
    "#### 2. 문자열 다루기"
   ]
  },
  {
   "cell_type": "code",
   "execution_count": 53,
   "id": "43b274ee",
   "metadata": {},
   "outputs": [
    {
     "name": "stdout",
     "output_type": "stream",
     "text": [
      "이름 : 양주연, 나이 : 0\n",
      "이름 : 양주연, 나이 : 0\n"
     ]
    }
   ],
   "source": [
    "# 문자열 안에 변수값 넣기 \n",
    "# .format\n",
    "a = '이름 : {}, 나이 : {}'\n",
    "\n",
    "print(a.format('양주연', 00))\n",
    "\n",
    "\n",
    "# f\n",
    "name = '양주연'\n",
    "age = 00\n",
    "a = f'이름 : {name}, 나이 : {age}'\n",
    "print(a)\n"
   ]
  },
  {
   "cell_type": "code",
   "execution_count": 55,
   "id": "7e7dce17",
   "metadata": {},
   "outputs": [
    {
     "name": "stdout",
     "output_type": "stream",
     "text": [
      "WOW\n",
      "wow\n",
      "Wow\n"
     ]
    }
   ],
   "source": [
    "b = 'wow'\n",
    "\n",
    "# 대문자로 변환\n",
    "print(b.upper())\n",
    "\n",
    "# 소문자로 변환\n",
    "print(b.lower())\n",
    "\n",
    "# 첫 문자만 대문자로 변환\n",
    "print(b.capitalize())"
   ]
  },
  {
   "cell_type": "code",
   "execution_count": 60,
   "id": "87b69a57",
   "metadata": {},
   "outputs": [
    {
     "name": "stdout",
     "output_type": "stream",
     "text": [
      "['나는,', '취뽀한다']\n",
      "['나는', ' 취뽀한다']\n",
      "양주연   \n",
      "   양주연\n",
      "양주연\n"
     ]
    }
   ],
   "source": [
    "# 문자열로 이루어진 리스트를, 하나의 문자열로 결합 .join\n",
    "a = ['빨강','파랑','노랑']\n",
    "','.join(a)\n",
    "\n",
    "# 분할하여 리스트로 만들어 줌 .split\n",
    "\n",
    "b = '나는, 취뽀한다'\n",
    "print(b.split())\n",
    "print(b.split(','))\n",
    "\n",
    "# 공백 제거\n",
    "c = '   양주연   '\n",
    "# 왼쪽 공백 제거\n",
    "print(c.lstrip())\n",
    "print(c.rstrip())\n",
    "print(c.strip())"
   ]
  },
  {
   "cell_type": "code",
   "execution_count": null,
   "id": "4bb825c8",
   "metadata": {},
   "outputs": [],
   "source": [
    "# 종합 실습 1.\n",
    "\n",
    "number = 77\n",
    "while True : \n",
    "    print('0~100사이의 숫자를 맞춰보세요.')\n",
    "    num = int(input())\n",
    "    if num > 100 :\n",
    "        print('잘못 입력 했습니다.')\n",
    "    else :\n",
    "        if num == number :\n",
    "            print('맞췄습니다!')\n",
    "        elif num > number :\n",
    "            print('더 작습니다.')\n",
    "        else :\n",
    "            print('더 큽니다.')"
   ]
  },
  {
   "cell_type": "code",
   "execution_count": 65,
   "id": "705659aa",
   "metadata": {},
   "outputs": [
    {
     "name": "stdout",
     "output_type": "stream",
     "text": [
      "[8, 11, 22, 42, 43, 44]\n"
     ]
    }
   ],
   "source": [
    "# 종합 실습 2. 로또 번호 생성기\n",
    "\n",
    "import random as rd\n",
    "\n",
    "def lotto_number():\n",
    "    result = rd.sample(list(range(1,47)),6)\n",
    "    result.sort()\n",
    "    print(result)\n",
    "    \n",
    "lotto_number()"
   ]
  }
 ],
 "metadata": {
  "kernelspec": {
   "display_name": "Python 3",
   "language": "python",
   "name": "python3"
  },
  "language_info": {
   "codemirror_mode": {
    "name": "ipython",
    "version": 3
   },
   "file_extension": ".py",
   "mimetype": "text/x-python",
   "name": "python",
   "nbconvert_exporter": "python",
   "pygments_lexer": "ipython3",
   "version": "3.8.8"
  }
 },
 "nbformat": 4,
 "nbformat_minor": 5
}
